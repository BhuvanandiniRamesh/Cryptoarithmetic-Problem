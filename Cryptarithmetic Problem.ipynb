{
 "cells": [
  {
   "cell_type": "code",
   "execution_count": 11,
   "id": "nasty-newman",
   "metadata": {},
   "outputs": [
    {
     "name": "stdout",
     "output_type": "stream",
     "text": [
      "Requirement already satisfied: ortools in /Users/vim/anaconda3/envs/vpwebscraping/lib/python3.8/site-packages (9.1.9490)\n",
      "Requirement already satisfied: absl-py>=0.13 in /Users/vim/anaconda3/envs/vpwebscraping/lib/python3.8/site-packages (from ortools) (0.15.0)\n",
      "Requirement already satisfied: protobuf>=3.18.0 in /Users/vim/anaconda3/envs/vpwebscraping/lib/python3.8/site-packages (from ortools) (3.19.0)\n",
      "Requirement already satisfied: six in /Users/vim/anaconda3/envs/vpwebscraping/lib/python3.8/site-packages (from absl-py>=0.13->ortools) (1.15.0)\n",
      "Note: you may need to restart the kernel to use updated packages.\n"
     ]
    }
   ],
   "source": [
    "pip install ortools"
   ]
  },
  {
   "cell_type": "code",
   "execution_count": 19,
   "id": "republican-wisdom",
   "metadata": {
    "scrolled": true
   },
   "outputs": [],
   "source": [
    "from ortools.sat.python import cp_model"
   ]
  },
  {
   "cell_type": "code",
   "execution_count": 20,
   "id": "sticky-powder",
   "metadata": {},
   "outputs": [],
   "source": [
    "model = cp_model.CpModel()"
   ]
  },
  {
   "cell_type": "code",
   "execution_count": 21,
   "id": "solved-hampton",
   "metadata": {},
   "outputs": [],
   "source": [
    "base = 10\n",
    "\n",
    "o = model.NewIntVar(1, base - 1, 'o')\n",
    "p = model.NewIntVar(0, base - 1, 'P')\n",
    "t = model.NewIntVar(0, base - 1, 'T')\n",
    "i = model.NewIntVar(0, base - 1, 'I')\n",
    "a = model.NewIntVar(1, base - 1, 'A')\n",
    "m = model.NewIntVar(1, base - 1, 'M')\n",
    "l = model.NewIntVar(1, base - 1, 'L')\n",
    "n = model.NewIntVar(1, base - 1, 'N')\n",
    "v = model.NewIntVar(0, base - 1, 'V')\n",
    "e = model.NewIntVar(0, base - 1, 'E')\n",
    "\n",
    "# We need to group variables in a list to use the constraint AllDifferent.\n",
    "letters = [o, p, t, i, a, m, l, n, v, e]\n",
    "\n",
    "# Verify that we have enough digits.\n",
    "assert base >= len(letters)"
   ]
  },
  {
   "cell_type": "code",
   "execution_count": 22,
   "id": "hungarian-uzbekistan",
   "metadata": {},
   "outputs": [
    {
     "data": {
      "text/plain": [
       "<ortools.sat.python.cp_model.Constraint at 0x7fbc0dda1b20>"
      ]
     },
     "execution_count": 22,
     "metadata": {},
     "output_type": "execute_result"
    }
   ],
   "source": [
    "# Define constraints.\n",
    "model.AddAllDifferent(letters)\n",
    "\n",
    "# OPTI + ML + AI + NP = LOVE\n",
    "\n",
    "\n",
    "model.Add(o * base * base * base + p * base * base + t * base + i + a * base + i + m * base + l + n * base + \n",
    "          p == l * base * base * base + o * base * base + v * base + e)"
   ]
  },
  {
   "cell_type": "code",
   "execution_count": 23,
   "id": "adult-capacity",
   "metadata": {},
   "outputs": [],
   "source": [
    "class VarArraySolutionPrinter(cp_model.CpSolverSolutionCallback):\n",
    "    \"\"\"Print intermediate solutions.\"\"\"\n",
    "\n",
    "    def __init__(self, variables):\n",
    "        cp_model.CpSolverSolutionCallback.__init__(self)\n",
    "        self.__variables = variables\n",
    "        self.__solution_count = 0\n",
    "\n",
    "    def on_solution_callback(self):\n",
    "        self.__solution_count += 1\n",
    "        for v in self.__variables:\n",
    "            print('%s=%i' % (v, self.Value(v)), end=' ')\n",
    "        print()\n",
    "\n",
    "    def solution_count(self):\n",
    "        return self.__solution_count "
   ]
  },
  {
   "cell_type": "code",
   "execution_count": 24,
   "id": "alive-thumb",
   "metadata": {},
   "outputs": [
    {
     "name": "stdout",
     "output_type": "stream",
     "text": [
      "o=1 P=9 T=4 I=8 A=3 M=6 L=2 N=5 V=0 E=7 \n",
      "o=1 P=9 T=5 I=8 A=4 M=6 L=2 N=3 V=0 E=7 \n",
      "o=1 P=9 T=6 I=8 A=5 M=4 L=2 N=3 V=0 E=7 \n",
      "o=1 P=9 T=5 I=8 A=6 M=4 L=2 N=3 V=0 E=7 \n",
      "o=1 P=9 T=6 I=8 A=4 M=5 L=2 N=3 V=0 E=7 \n",
      "o=1 P=9 T=4 I=8 A=6 M=5 L=2 N=3 V=0 E=7 \n",
      "o=1 P=9 T=4 I=8 A=5 M=6 L=2 N=3 V=0 E=7 \n",
      "o=1 P=9 T=5 I=8 A=3 M=6 L=2 N=4 V=0 E=7 \n",
      "o=1 P=9 T=6 I=8 A=3 M=5 L=2 N=4 V=0 E=7 \n",
      "o=1 P=9 T=5 I=8 A=3 M=4 L=2 N=6 V=0 E=7 \n",
      "o=1 P=9 T=3 I=8 A=5 M=6 L=2 N=4 V=0 E=7 \n",
      "o=1 P=9 T=6 I=8 A=5 M=3 L=2 N=4 V=0 E=7 \n",
      "o=1 P=9 T=5 I=8 A=6 M=3 L=2 N=4 V=0 E=7 \n",
      "o=1 P=9 T=5 I=8 A=4 M=3 L=2 N=6 V=0 E=7 \n",
      "o=1 P=9 T=6 I=8 A=4 M=3 L=2 N=5 V=0 E=7 \n",
      "o=1 P=9 T=4 I=8 A=5 M=3 L=2 N=6 V=0 E=7 \n",
      "o=1 P=9 T=4 I=8 A=6 M=3 L=2 N=5 V=0 E=7 \n",
      "o=1 P=9 T=6 I=8 A=3 M=4 L=2 N=5 V=0 E=7 \n",
      "o=1 P=9 T=4 I=8 A=3 M=5 L=2 N=6 V=0 E=7 \n",
      "o=1 P=9 T=3 I=8 A=4 M=6 L=2 N=5 V=0 E=7 \n",
      "o=1 P=9 T=3 I=8 A=6 M=4 L=2 N=5 V=0 E=7 \n",
      "o=1 P=9 T=3 I=8 A=5 M=4 L=2 N=6 V=0 E=7 \n",
      "o=1 P=9 T=3 I=8 A=6 M=5 L=2 N=4 V=0 E=7 \n",
      "o=1 P=9 T=3 I=8 A=4 M=5 L=2 N=6 V=0 E=7 \n"
     ]
    }
   ],
   "source": [
    "### Solve model.\n",
    "solver = cp_model.CpSolver()\n",
    "solution_printer = VarArraySolutionPrinter(letters)\n",
    "# Enumerate all solutions.\n",
    "solver.parameters.enumerate_all_solutions = True\n",
    "# Solve.\n",
    "status = solver.Solve(model, solution_printer)"
   ]
  },
  {
   "cell_type": "code",
   "execution_count": 18,
   "id": "flexible-freeze",
   "metadata": {},
   "outputs": [
    {
     "name": "stdout",
     "output_type": "stream",
     "text": [
      "\n",
      "Statistics\n",
      "  - status          : OPTIMAL\n",
      "  - conflicts       : 1032\n",
      "  - branches        : 2389\n",
      "  - wall time       : 0.240955 s\n",
      "  - solutions found : 144\n"
     ]
    }
   ],
   "source": [
    "print()\n",
    "print('Statistics')\n",
    "print('  - status          : %s' % solver.StatusName(status))\n",
    "print('  - conflicts       : %i' % solver.NumConflicts())\n",
    "print('  - branches        : %i' % solver.NumBranches())\n",
    "print('  - wall time       : %f s' % solver.WallTime())\n",
    "print('  - solutions found : %i' % solution_printer.solution_count())\n",
    "\n",
    "\n"
   ]
  },
  {
   "cell_type": "code",
   "execution_count": null,
   "id": "durable-westminster",
   "metadata": {},
   "outputs": [],
   "source": []
  },
  {
   "cell_type": "code",
   "execution_count": null,
   "id": "golden-convenience",
   "metadata": {},
   "outputs": [],
   "source": []
  },
  {
   "cell_type": "code",
   "execution_count": null,
   "id": "progressive-georgia",
   "metadata": {},
   "outputs": [],
   "source": []
  },
  {
   "cell_type": "code",
   "execution_count": null,
   "id": "civic-search",
   "metadata": {},
   "outputs": [],
   "source": []
  },
  {
   "cell_type": "code",
   "execution_count": null,
   "id": "compatible-consent",
   "metadata": {},
   "outputs": [],
   "source": []
  },
  {
   "cell_type": "code",
   "execution_count": null,
   "id": "bulgarian-violence",
   "metadata": {},
   "outputs": [],
   "source": []
  },
  {
   "cell_type": "code",
   "execution_count": null,
   "id": "increased-grill",
   "metadata": {},
   "outputs": [],
   "source": []
  },
  {
   "cell_type": "code",
   "execution_count": null,
   "id": "recovered-thing",
   "metadata": {},
   "outputs": [],
   "source": []
  },
  {
   "cell_type": "code",
   "execution_count": null,
   "id": "automated-handy",
   "metadata": {},
   "outputs": [],
   "source": []
  }
 ],
 "metadata": {
  "kernelspec": {
   "display_name": "Python 3",
   "language": "python",
   "name": "python3"
  },
  "language_info": {
   "codemirror_mode": {
    "name": "ipython",
    "version": 3
   },
   "file_extension": ".py",
   "mimetype": "text/x-python",
   "name": "python",
   "nbconvert_exporter": "python",
   "pygments_lexer": "ipython3",
   "version": "3.8.5"
  }
 },
 "nbformat": 4,
 "nbformat_minor": 5
}
